{
 "cells": [
  {
   "cell_type": "code",
   "execution_count": 1,
   "id": "5a22e967",
   "metadata": {},
   "outputs": [],
   "source": [
    "import warnings\n",
    "warnings.filterwarnings('ignore')\n",
    "\n",
    "from selenium.common.exceptions import StaleElementReferenceException, NoSuchElementException\n",
    "from selenium.webdriver.common.by import By\n",
    "\n",
    "import selenium\n",
    "from selenium import webdriver\n",
    "import time\n",
    "import pandas as pd\n",
    "from selenium.common.exceptions import StaleElementReferenceException, NoSuchElementException,ElementNotInteractableException,InvalidArgumentException,InvalidArgumentException\n"
   ]
  },
  {
   "cell_type": "code",
   "execution_count": 2,
   "id": "50122b95",
   "metadata": {},
   "outputs": [],
   "source": [
    "driver = webdriver.Chrome(r\"G:\\chromedriver_win32\\chromedriver.exe\")  "
   ]
  },
  {
   "cell_type": "code",
   "execution_count": 3,
   "id": "5259fea1",
   "metadata": {},
   "outputs": [],
   "source": [
    "url = 'https://www.amazon.in/'"
   ]
  },
  {
   "cell_type": "code",
   "execution_count": 4,
   "id": "0daa58bb",
   "metadata": {},
   "outputs": [],
   "source": [
    "#opening the webpage through our driver\n",
    "driver.get(url)"
   ]
  },
  {
   "cell_type": "code",
   "execution_count": 5,
   "id": "7aceca36",
   "metadata": {},
   "outputs": [
    {
     "name": "stdout",
     "output_type": "stream",
     "text": [
      "Enter an Item to search: laptop\n"
     ]
    }
   ],
   "source": [
    "item = input(\"Enter an Item to search: \")"
   ]
  },
  {
   "cell_type": "code",
   "execution_count": 6,
   "id": "90ce36ff",
   "metadata": {},
   "outputs": [],
   "source": [
    "search = driver.find_element(By.XPATH,'/html/body/div[1]/header/div/div[1]/div[2]/div/form/div[2]/div[1]/input')\n",
    "search.send_keys(item)"
   ]
  },
  {
   "cell_type": "code",
   "execution_count": 7,
   "id": "a3f24660",
   "metadata": {},
   "outputs": [],
   "source": [
    "search = driver.find_element(By.XPATH,'/html/body/div[1]/header/div/div[1]/div[2]/div/form/div[3]/div/span/input')\n",
    "search.click()"
   ]
  },
  {
   "cell_type": "code",
   "execution_count": 8,
   "id": "8bc6d1ea",
   "metadata": {},
   "outputs": [],
   "source": [
    "start = 0\n",
    "end = 3\n",
    "pro_url = []\n",
    "for page in range(start, end):\n",
    "    \n",
    "    \n",
    "    produrl_tag = driver.find_elements(By.XPATH,\"//a[@class='a-link-normal s-underline-text s-underline-link-text s-link-style a-text-normal']\")\n",
    "    for i in produrl_tag:\n",
    "        pro_url.append(i.get_attribute('href'))\n",
    "        next_button = driver.find_elements(By.XPATH,\"//a[@class='s-pagination-item s-pagination-next s-pagination-button s-pagination-separator']\") #to scrap data from next page\n",
    "        #next_button.click()\n",
    "    time.sleep(3)"
   ]
  },
  {
   "cell_type": "code",
   "execution_count": 9,
   "id": "06f72bc2",
   "metadata": {},
   "outputs": [
    {
     "data": {
      "text/plain": [
       "93"
      ]
     },
     "execution_count": 9,
     "metadata": {},
     "output_type": "execute_result"
    }
   ],
   "source": [
    "len(pro_url)"
   ]
  },
  {
   "cell_type": "markdown",
   "id": "fdfb4aa0",
   "metadata": {},
   "source": [
    "## Below step i faced error "
   ]
  },
  {
   "cell_type": "code",
   "execution_count": null,
   "id": "0beda80a",
   "metadata": {},
   "outputs": [],
   "source": [
    "brand_name = []\n",
    "for i in pro_url:\n",
    "    driver.get(i)\n",
    "    time.sleep(5)\n",
    "    try:\n",
    "        brand_na = driver.find_element(By.XPATH,\"//td[@class='a-span9']\")\n",
    "        brand_name.append(brand_na.text)\n",
    "    except:\n",
    "        brand_name.append('-')"
   ]
  },
  {
   "cell_type": "code",
   "execution_count": null,
   "id": "08aea3da",
   "metadata": {},
   "outputs": [],
   "source": []
  },
  {
   "cell_type": "code",
   "execution_count": null,
   "id": "162b1e04",
   "metadata": {},
   "outputs": [],
   "source": []
  },
  {
   "cell_type": "code",
   "execution_count": null,
   "id": "542e4d1a",
   "metadata": {},
   "outputs": [],
   "source": []
  },
  {
   "cell_type": "code",
   "execution_count": null,
   "id": "efe275ef",
   "metadata": {},
   "outputs": [],
   "source": []
  },
  {
   "cell_type": "code",
   "execution_count": null,
   "id": "a490dac3",
   "metadata": {},
   "outputs": [],
   "source": []
  }
 ],
 "metadata": {
  "kernelspec": {
   "display_name": "Python 3 (ipykernel)",
   "language": "python",
   "name": "python3"
  },
  "language_info": {
   "codemirror_mode": {
    "name": "ipython",
    "version": 3
   },
   "file_extension": ".py",
   "mimetype": "text/x-python",
   "name": "python",
   "nbconvert_exporter": "python",
   "pygments_lexer": "ipython3",
   "version": "3.9.7"
  }
 },
 "nbformat": 4,
 "nbformat_minor": 5
}
