{
 "cells": [
  {
   "cell_type": "code",
   "execution_count": 1,
   "id": "6e2c4c33",
   "metadata": {},
   "outputs": [],
   "source": [
    "import warnings\n",
    "warnings.filterwarnings('ignore')\n",
    "\n",
    "from selenium.common.exceptions import StaleElementReferenceException, NoSuchElementException\n",
    "from selenium.webdriver.common.by import By\n",
    "\n",
    "import selenium\n",
    "from selenium import webdriver\n",
    "import time\n",
    "import pandas as pd\n",
    "from selenium.common.exceptions import StaleElementReferenceException, NoSuchElementException,ElementNotInteractableException,InvalidArgumentException,InvalidArgumentException\n"
   ]
  },
  {
   "cell_type": "code",
   "execution_count": 2,
   "id": "18cb1b12",
   "metadata": {},
   "outputs": [],
   "source": [
    "driver = webdriver.Chrome(r\"G:\\chromedriver_win32\\chromedriver.exe\")  "
   ]
  },
  {
   "cell_type": "code",
   "execution_count": 3,
   "id": "912dbf3f",
   "metadata": {},
   "outputs": [],
   "source": [
    "url = 'https://www.amazon.in/'"
   ]
  },
  {
   "cell_type": "code",
   "execution_count": 4,
   "id": "72f51f35",
   "metadata": {},
   "outputs": [],
   "source": [
    "#opening the webpage through our driver\n",
    "driver.get(url)"
   ]
  },
  {
   "cell_type": "code",
   "execution_count": 5,
   "id": "5474b218",
   "metadata": {},
   "outputs": [
    {
     "name": "stdout",
     "output_type": "stream",
     "text": [
      "Enter an Item to search: laptop\n"
     ]
    }
   ],
   "source": [
    "item = input(\"Enter an Item to search: \")"
   ]
  },
  {
   "cell_type": "code",
   "execution_count": 6,
   "id": "d0d71e6e",
   "metadata": {},
   "outputs": [],
   "source": [
    "search = driver.find_element(By.XPATH,'/html/body/div[1]/header/div/div[1]/div[2]/div/form/div[2]/div[1]/input')\n",
    "search.send_keys(item)"
   ]
  },
  {
   "cell_type": "code",
   "execution_count": 7,
   "id": "b8be03dc",
   "metadata": {},
   "outputs": [],
   "source": [
    "search = driver.find_element(By.XPATH,'/html/body/div[1]/header/div/div[1]/div[2]/div/form/div[3]/div/span/input')\n",
    "search.click()"
   ]
  },
  {
   "cell_type": "code",
   "execution_count": 8,
   "id": "4fa75185",
   "metadata": {},
   "outputs": [],
   "source": [
    "start = 0\n",
    "end = 3\n",
    "pro_url = []\n",
    "for page in range(start, end):\n",
    "    \n",
    "    \n",
    "    produrl_tag = driver.find_elements(By.XPATH,\"//a[@class='a-link-normal s-underline-text s-underline-link-text s-link-style a-text-normal']\")\n",
    "    for i in produrl_tag:\n",
    "        pro_url.append(i.get_attribute('href'))\n",
    "        next_button = driver.find_elements(By.XPATH,\"//a[@class='s-pagination-item s-pagination-next s-pagination-button s-pagination-separator']\") #to scrap data from next page\n",
    "        #next_button.click()\n",
    "    time.sleep(3)"
   ]
  },
  {
   "cell_type": "code",
   "execution_count": 9,
   "id": "277db5ec",
   "metadata": {},
   "outputs": [
    {
     "data": {
      "text/plain": [
       "93"
      ]
     },
     "execution_count": 9,
     "metadata": {},
     "output_type": "execute_result"
    }
   ],
   "source": [
    "len(pro_url)"
   ]
  },
  {
   "cell_type": "markdown",
   "id": "9ae6ff9e",
   "metadata": {},
   "source": [
    "## Below step i faced error "
   ]
  },
  {
   "cell_type": "code",
   "execution_count": null,
   "id": "4f134259",
   "metadata": {},
   "outputs": [],
   "source": [
    "brand_name = []\n",
    "for i in pro_url:\n",
    "    driver.get(i)\n",
    "    time.sleep(5)\n",
    "    try:\n",
    "        brand_na = driver.find_element(By.XPATH,\"//td[@class='a-span9']\")\n",
    "        brand_name.append(brand_na.text)\n",
    "    except:\n",
    "        brand_name.append('-')"
   ]
  },
  {
   "cell_type": "code",
   "execution_count": null,
   "id": "4ab762be",
   "metadata": {},
   "outputs": [],
   "source": [
    "exchange = []\n",
    "for i in pro_url:\n",
    "    driver.get(i)\n",
    "    time.sleep(5)\n",
    "    try:\n",
    "        prodtag = driver.find_element(By.XPATH,\"//span[@class='sopp-offer-title']\")\n",
    "        exchange.append(prodtag.text)\n",
    "    except:\n",
    "        exchange.append('-')"
   ]
  },
  {
   "cell_type": "code",
   "execution_count": null,
   "id": "2f19875b",
   "metadata": {},
   "outputs": [],
   "source": [
    "availability = []\n",
    "for i in pro_url:\n",
    "    driver.get(i)\n",
    "    time.sleep(5)\n",
    "    try:\n",
    "        prodtag = driver.find_element(By.XPATH,\"//span[@class='a-size-medium a-color-success']\")\n",
    "        availability.append(prodtag.text)\n",
    "    except:\n",
    "        availability.append('-')"
   ]
  },
  {
   "cell_type": "code",
   "execution_count": null,
   "id": "b8bea920",
   "metadata": {},
   "outputs": [],
   "source": [
    "prod_name = []\n",
    "for i in pro_url:\n",
    "    driver.get(i)\n",
    "    time.sleep(5)\n",
    "    try:\n",
    "        prodtag = driver.find_element(By.XPATH,\"//span[@class='a-size-large product-title-word-break']\")\n",
    "        prod_name.append(prodtag.text)\n",
    "    except:\n",
    "        prod_name.append('-')"
   ]
  },
  {
   "cell_type": "code",
   "execution_count": null,
   "id": "e1f5f1c9",
   "metadata": {},
   "outputs": [],
   "source": [
    "delivery = []\n",
    "for i in pro_url:\n",
    "    driver.get(i)\n",
    "    time.sleep(5)\n",
    "    try:\n",
    "        prodtag = driver.find_element(By.XPATH,\"//span[@class='a-text-bold']\")\n",
    "        delivery.append(prodtag.text)\n",
    "    except:\n",
    "        delivery.append('-')"
   ]
  },
  {
   "cell_type": "code",
   "execution_count": null,
   "id": "219283a8",
   "metadata": {},
   "outputs": [],
   "source": [
    "price = []\n",
    "for i in pro_url:\n",
    "    driver.get(i)\n",
    "    time.sleep(5)\n",
    "    try:\n",
    "        prodtag = driver.find_element(By.XPATH,\"//span[@class='a-price-whole']\")\n",
    "        price.append(prodtag.text)\n",
    "    except:\n",
    "        price.append('-')"
   ]
  },
  {
   "cell_type": "code",
   "execution_count": null,
   "id": "cb6c41ab",
   "metadata": {},
   "outputs": [],
   "source": []
  },
  {
   "cell_type": "code",
   "execution_count": null,
   "id": "98c238ab",
   "metadata": {},
   "outputs": [],
   "source": []
  },
  {
   "cell_type": "code",
   "execution_count": null,
   "id": "1d4b0090",
   "metadata": {},
   "outputs": [],
   "source": []
  }
 ],
 "metadata": {
  "kernelspec": {
   "display_name": "Python 3 (ipykernel)",
   "language": "python",
   "name": "python3"
  },
  "language_info": {
   "codemirror_mode": {
    "name": "ipython",
    "version": 3
   },
   "file_extension": ".py",
   "mimetype": "text/x-python",
   "name": "python",
   "nbconvert_exporter": "python",
   "pygments_lexer": "ipython3",
   "version": "3.9.7"
  }
 },
 "nbformat": 4,
 "nbformat_minor": 5
}
