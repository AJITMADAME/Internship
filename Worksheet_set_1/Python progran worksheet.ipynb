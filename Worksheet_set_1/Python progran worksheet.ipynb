{
 "cells": [
  {
   "cell_type": "code",
   "execution_count": 1,
   "id": "3d5dd4bb",
   "metadata": {},
   "outputs": [
    {
     "data": {
      "text/plain": [
       "0"
      ]
     },
     "execution_count": 1,
     "metadata": {},
     "output_type": "execute_result"
    }
   ],
   "source": [
    "2//3"
   ]
  },
  {
   "cell_type": "code",
   "execution_count": 2,
   "id": "4a3bfd7e",
   "metadata": {},
   "outputs": [
    {
     "data": {
      "text/plain": [
       "24"
      ]
     },
     "execution_count": 2,
     "metadata": {},
     "output_type": "execute_result"
    }
   ],
   "source": [
    "6<<2"
   ]
  },
  {
   "cell_type": "code",
   "execution_count": 3,
   "id": "415c5015",
   "metadata": {},
   "outputs": [
    {
     "data": {
      "text/plain": [
       "2"
      ]
     },
     "execution_count": 3,
     "metadata": {},
     "output_type": "execute_result"
    }
   ],
   "source": [
    "6&2"
   ]
  },
  {
   "cell_type": "code",
   "execution_count": 3,
   "id": "3a3b52dd",
   "metadata": {},
   "outputs": [
    {
     "data": {
      "text/plain": [
       "5040"
      ]
     },
     "execution_count": 3,
     "metadata": {},
     "output_type": "execute_result"
    }
   ],
   "source": [
    "# Ans 11\n",
    "def fact(n):\n",
    "    f = 1\n",
    "    \n",
    "    for i in range(1,n+1):\n",
    "        f = f * i\n",
    "    return f\n",
    "fact(7)"
   ]
  },
  {
   "cell_type": "code",
   "execution_count": 7,
   "id": "397f881f",
   "metadata": {},
   "outputs": [
    {
     "name": "stdout",
     "output_type": "stream",
     "text": [
      "Enter the number: 4\n",
      "4 = Composite number\n"
     ]
    }
   ],
   "source": [
    "# Ans 12\n",
    "number = int(input('Enter the number: '))\n",
    "if number ==0 or number ==1:\n",
    "    print(number,'neither prime nor composite')\n",
    "else:\n",
    "    for i in range(2, number):\n",
    "        if (number % i == 0):\n",
    "            print(number, '= Composite number')\n",
    "            break\n",
    "    else:\n",
    "        print(number, '= Prime number')"
   ]
  },
  {
   "cell_type": "code",
   "execution_count": 9,
   "id": "e14a3a26",
   "metadata": {},
   "outputs": [
    {
     "name": "stdout",
     "output_type": "stream",
     "text": [
      "No\n"
     ]
    }
   ],
   "source": [
    "# Ans 13\n",
    "def palindrome(s):\n",
    "    return s == s[::-1]\n",
    "\n",
    "s = \"marathi\"\n",
    "ans = palindrome(s)\n",
    "\n",
    "if ans:\n",
    "    print('Yes')\n",
    "else:\n",
    "    print('No')"
   ]
  },
  {
   "cell_type": "code",
   "execution_count": 10,
   "id": "9f9ad6ae",
   "metadata": {},
   "outputs": [
    {
     "name": "stdout",
     "output_type": "stream",
     "text": [
      "Enter the 1st side: 12\n",
      "Enter the 2nd side: 14\n",
      "3rd side i.e. hypotenuse is: 18.439088914585774\n"
     ]
    }
   ],
   "source": [
    "# Ans 14\n",
    "side1 = float(input('Enter the 1st side: '))\n",
    "side2 = float(input('Enter the 2nd side: '))\n",
    "\n",
    "side3 = (side1 * side1 + side2 * side2)**0.5\n",
    "print('3rd side i.e. hypotenuse is:',side3)"
   ]
  },
  {
   "cell_type": "code",
   "execution_count": 13,
   "id": "03fd5bf5",
   "metadata": {},
   "outputs": [
    {
     "name": "stdout",
     "output_type": "stream",
     "text": [
      "Enter a String: i am groot\n",
      "{'i': 1, ' ': 2, 'a': 1, 'm': 1, 'g': 1, 'r': 1, 'o': 2, 't': 1}\n"
     ]
    }
   ],
   "source": [
    "# Ans 15\n",
    "\n",
    "st = input('Enter a String: ')\n",
    "count = {}\n",
    "\n",
    "for i in st:\n",
    "    if i in count.keys():\n",
    "        count[i]+=1\n",
    "    else:\n",
    "        count[i] = 1\n",
    "        \n",
    "print(count)\n",
    "    "
   ]
  },
  {
   "cell_type": "code",
   "execution_count": null,
   "id": "e22624e3",
   "metadata": {},
   "outputs": [],
   "source": []
  }
 ],
 "metadata": {
  "kernelspec": {
   "display_name": "Python 3 (ipykernel)",
   "language": "python",
   "name": "python3"
  },
  "language_info": {
   "codemirror_mode": {
    "name": "ipython",
    "version": 3
   },
   "file_extension": ".py",
   "mimetype": "text/x-python",
   "name": "python",
   "nbconvert_exporter": "python",
   "pygments_lexer": "ipython3",
   "version": "3.9.7"
  }
 },
 "nbformat": 4,
 "nbformat_minor": 5
}
